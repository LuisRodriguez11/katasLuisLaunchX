{
  "cells": [
    {
      "cell_type": "markdown",
      "metadata": {},
      "source": [
        "## Fecha de hoy"
      ]
    },
    {
      "cell_type": "code",
      "execution_count": 24,
      "metadata": {},
      "outputs": [
        {
          "name": "stdout",
          "output_type": "stream",
          "text": [
            "La fecha de hoy es: 2022-02-16\n"
          ]
        }
      ],
      "source": [
        "#biblioteca\n",
        "from datetime import date\n",
        "#obtener fecha\n",
        "date.today()\n",
        "#Mostramos la fecha en la consola\n",
        "fecha = str(date.today())\n",
        "print(\"La fecha de hoy es: \" + fecha)"
      ]
    },
    {
      "cell_type": "markdown",
      "metadata": {},
      "source": [
        "## Construir un convertidor de unidades"
      ]
    },
    {
      "cell_type": "code",
      "execution_count": 25,
      "metadata": {},
      "outputs": [
        {
          "name": "stdout",
          "output_type": "stream",
          "text": [
            " Parsecs: 11 Años luz: 35.877159999999996\n"
          ]
        }
      ],
      "source": [
        "parsec = 11\n",
        "\n",
        "lightYears = parsec*3.26156\n",
        "\n",
        "print(\" Parsecs: \" + str(parsec) + \" Años luz: \" + str(lightYears))\n",
        "\n"
      ]
    }
  ],
  "metadata": {
    "interpreter": {
      "hash": "aee8b7b246df8f9039afb4144a1f6fd8d2ca17a180786b69acc140d282b71a49"
    },
    "kernel_info": {
      "name": "conda-env-py37_default-py"
    },
    "kernelspec": {
      "display_name": "py37_default",
      "language": "python",
      "name": "python3"
    },
    "language_info": {
      "codemirror_mode": {
        "name": "ipython",
        "version": 3
      },
      "file_extension": ".py",
      "mimetype": "text/x-python",
      "name": "python",
      "nbconvert_exporter": "python",
      "pygments_lexer": "ipython3",
      "version": "3.10.2"
    },
    "nteract": {
      "version": "nteract-front-end@1.0.0"
    },
    "orig_nbformat": 4
  },
  "nbformat": 4,
  "nbformat_minor": 2
}
