{
  "cells": [
    {
      "cell_type": "markdown",
      "metadata": {},
      "source": [
        "### Ejercicio No 1"
      ]
    },
    {
      "cell_type": "code",
      "execution_count": null,
      "metadata": {},
      "outputs": [],
      "source": [
        "planet_moons = {\n",
        "    'mercury': 0,\n",
        "    'venus': 0,\n",
        "    'earth': 1,\n",
        "    'mars': 2,\n",
        "    'jupiter': 79,\n",
        "    'saturn': 82,\n",
        "    'uranus': 27,\n",
        "    'neptune': 14,\n",
        "    'pluto': 5,\n",
        "    'haumea': 2,\n",
        "    'makemake': 1,\n",
        "    'eris': 1\n",
        "}"
      ]
    },
    {
      "cell_type": "markdown",
      "metadata": {},
      "source": [
        "## Ejercicio No. 1"
      ]
    },
    {
      "cell_type": "code",
      "execution_count": null,
      "metadata": {},
      "outputs": [],
      "source": [
        "# Diccionario llamado planet con los datos\n",
        "planet = {\n",
        "    'name': 'Mars',\n",
        "    'moons': 2\n",
        "}"
      ]
    },
    {
      "cell_type": "code",
      "execution_count": null,
      "metadata": {},
      "outputs": [],
      "source": [
        "# Nombre del planeta y número de lunas que tiene\n",
        "print(f'{planet[\"name\"]} has {planet[\"moons\"]} moons')"
      ]
    },
    {
      "cell_type": "code",
      "execution_count": null,
      "metadata": {},
      "outputs": [],
      "source": [
        "# Circunferencia - datos proporcionados previamente\n",
        "planet['circumference (km)'] = {\n",
        "    'polar': 6752,\n",
        "    'equatorial': 6792\n",
        "}"
      ]
    },
    {
      "cell_type": "code",
      "execution_count": null,
      "metadata": {},
      "outputs": [],
      "source": [
        "# Imprime el nombre del planeta con su circunferencia polar.\n",
        "print(f'{planet[\"name\"]} has a polar circumference of {planet[\"circumference (km)\"][\"polar\"]}')"
      ]
    },
    {
      "cell_type": "markdown",
      "metadata": {},
      "source": [
        "### Ejercicio No. 2"
      ]
    },
    {
      "cell_type": "code",
      "execution_count": null,
      "metadata": {},
      "outputs": [],
      "source": [
        "# Añade el código para determinar el número de lunas.\n",
        "# Obtenemos la lista de las lunas\n",
        "# Almacenamos los resultados en una variable moons\n",
        "moons = planet_moons.values()\n",
        "# Obtenemos el total de planetas\n",
        "# Almacenamos los resultados en una variable llamada years\n",
        "planets = len(planet_moons.keys())"
      ]
    },
    {
      "cell_type": "code",
      "execution_count": null,
      "metadata": {},
      "outputs": [],
      "source": [
        "# Calcula el total_moons agregando todas las lunas\n",
        "# Almacena su valor en una variable llamada total_moons\n",
        "total_moons = 0\n",
        "for moon in moons:\n",
        "    total_moons = total_moons + moon\n",
        "# Calcula el promedio dividiendo el total_moons por el número de planetas\n",
        "average = total_moons / planets\n",
        "# Muestra el promedio\n",
        "print(average)"
      ]
    }
  ],
  "metadata": {
    "interpreter": {
      "hash": "916dbcbb3f70747c44a77c7bcd40155683ae19c65e1c03b4aa3499c5328201f1"
    },
    "kernelspec": {
      "display_name": "Python 3.8.10 64-bit",
      "name": "python3"
    },
    "language_info": {
      "codemirror_mode": {
        "name": "ipython",
        "version": 3
      },
      "file_extension": ".py",
      "mimetype": "text/x-python",
      "name": "python",
      "nbconvert_exporter": "python",
      "pygments_lexer": "ipython3",
      "version": "3.9.5"
    },
    "nteract": {
      "version": "nteract-front-end@1.0.0"
    },
    "orig_nbformat": 4
  },
  "nbformat": 4,
  "nbformat_minor": 2
}
