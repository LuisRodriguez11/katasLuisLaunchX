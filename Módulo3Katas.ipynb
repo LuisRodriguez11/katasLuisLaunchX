{
  "cells": [
    {
      "cell_type": "markdown",
      "metadata": {},
      "source": [
        "## Problema No. 1"
      ]
    },
    {
      "cell_type": "code",
      "execution_count": 13,
      "metadata": {},
      "outputs": [
        {
          "name": "stdout",
          "output_type": "stream",
          "text": [
            "¡ADVERTENCIA! peligro de colisión\n"
          ]
        }
      ],
      "source": [
        "asteroide = 49\n",
        "\n",
        "if asteroide > 25:\n",
        "    print(\"¡ADVERTENCIA! peligro de colisión\")\n",
        "else:\n",
        "    print(\"Fuera de peligro\")\n"
      ]
    },
    {
      "cell_type": "markdown",
      "metadata": {},
      "source": [
        "## Problema No. 2"
      ]
    },
    {
      "cell_type": "code",
      "execution_count": 14,
      "metadata": {},
      "outputs": [
        {
          "name": "stdout",
          "output_type": "stream",
          "text": [
            "¡No hay luz en el cielo!\n"
          ]
        }
      ],
      "source": [
        "asteroide = 19\n",
        "if asteroide > 20:\n",
        "    print(\"¡Observe la luz en el cielo!\")\n",
        "elif asteroide == 20:\n",
        "    print(\"¡Observe la luz en el cielo!\")\n",
        "else:\n",
        "    print(\"¡No hay luz en el cielo!\")"
      ]
    },
    {
      "cell_type": "markdown",
      "metadata": {},
      "source": [
        "## Problema No. 3"
      ]
    },
    {
      "cell_type": "code",
      "execution_count": 15,
      "metadata": {},
      "outputs": [
        {
          "name": "stdout",
          "output_type": "stream",
          "text": [
            "¡Hay una luz mágica en el cielo!\n"
          ]
        }
      ],
      "source": [
        "sizeAsteroide = 25\n",
        "velocidadAsteroide = 40\n",
        "\n",
        "if sizeAsteroide > 25 and velocidadAsteroide > 25:\n",
        "    print(\"¡peligro, Posible asteroide peligroso acercandose!\")\n",
        "elif velocidadAsteroide >= 20:\n",
        "    print(\"¡Hay una luz mágica en el cielo!\")\n",
        "elif sizeAsteroide < 25:\n",
        "    print(\"Todo está bien\")\n",
        "else:\n",
        "    print(\"Todo está bien\")\n"
      ]
    }
  ],
  "metadata": {
    "interpreter": {
      "hash": "916dbcbb3f70747c44a77c7bcd40155683ae19c65e1c03b4aa3499c5328201f1"
    },
    "kernel_info": {
      "name": "conda-env-py37_default-py"
    },
    "kernelspec": {
      "display_name": "py37_default",
      "language": "python",
      "name": "python3"
    },
    "language_info": {
      "codemirror_mode": {
        "name": "ipython",
        "version": 3
      },
      "file_extension": ".py",
      "mimetype": "text/x-python",
      "name": "python",
      "nbconvert_exporter": "python",
      "pygments_lexer": "ipython3",
      "version": "3.10.2"
    },
    "nteract": {
      "version": "nteract-front-end@1.0.0"
    },
    "orig_nbformat": 4
  },
  "nbformat": 4,
  "nbformat_minor": 2
}
